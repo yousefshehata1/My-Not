{
 "cells": [
  {
   "cell_type": "markdown",
   "metadata": {
    "collapsed": true
   },
   "source": [
    "# My Jupyter Notebook on IBM Watson Studio"
   ]
  },
  {
   "attachments": {},
   "cell_type": "markdown",
   "metadata": {},
   "source": [
    "**Youssef Shehata** <br>\n",
    "Biotech"
   ]
  },
  {
   "attachments": {},
   "cell_type": "markdown",
   "metadata": {},
   "source": [
    "*I am interested in data science becuase I like dealing with big data,ML, and Neural networks*"
   ]
  },
  {
   "cell_type": "markdown",
   "metadata": {},
   "source": [
    "### Data Science Languages\n",
    "- Python\n",
    "- R\n",
    "- SQL\n",
    "- Java\n",
    "- Julia\n",
    "- Scala\n",
    "- C/C++\n",
    "- JavaScript\n",
    "- Swift\n",
    "- Go\n",
    "- MATLAB\n",
    "- SAS"
   ]
  },
  {
   "cell_type": "markdown",
   "metadata": {},
   "source": [
    "### Data Science Libraries\n",
    "- TensorFlow\n",
    "- NumPy\n",
    "- SciPy \n",
    "- Pandas\n",
    "- Matplotlib \n",
    "- Keras\n",
    "- SciKit-Learn\n",
    "- PyTorch\n",
    "- Scrapy"
   ]
  },
  {
   "cell_type": "markdown",
   "metadata": {},
   "source": [
    "### Table of some Data Science tools\n",
    "| No | Tool Name |\n",
    "| --- | --- |\n",
    "| 1 | SAS |\n",
    "| 2 | Apache Spark |\n",
    "| 3 | BigML |\n",
    "| 4 | MATLAB |\n",
    "| 5 | D3 |"
   ]
  },
  {
   "cell_type": "markdown",
   "metadata": {},
   "source": [
    "#### An arithmetic expression is an expression using additions +, subtractions -, multiplications *, divisions /, and exponentials **"
   ]
  },
  {
   "cell_type": "code",
   "execution_count": 1,
   "metadata": {},
   "outputs": [
    {
     "name": "stdout",
     "output_type": "stream",
     "text": [
      "12\n"
     ]
    }
   ],
   "source": [
    "x = (1+2) * 4\n",
    "print(x)"
   ]
  },
  {
   "cell_type": "markdown",
   "metadata": {},
   "source": [
    "### Sum two numbers function"
   ]
  },
  {
   "cell_type": "code",
   "execution_count": 3,
   "metadata": {},
   "outputs": [
    {
     "name": "stdout",
     "output_type": "stream",
     "text": [
      "3\n",
      "2\n"
     ]
    }
   ],
   "source": [
    "def sum(a, b):\n",
    "    c = a+ b\n",
    "    return c\n",
    "def mult(a,b):\n",
    "    c = a * b\n",
    "    return c\n",
    "print(summ(1,2))\n",
    "print(mult(1,2))"
   ]
  },
  {
   "cell_type": "code",
   "execution_count": 11,
   "metadata": {},
   "outputs": [
    {
     "name": "stdout",
     "output_type": "stream",
     "text": [
      "2.0\n"
     ]
    }
   ],
   "source": [
    "minutes = 120\n",
    "hours = minutes / 60\n",
    "print (hours)"
   ]
  },
  {
   "attachments": {},
   "cell_type": "markdown",
   "metadata": {},
   "source": [
    "### Objectives:\n",
    "- obj 1\n",
    "- obj 2\n",
    "- obj 3\n",
    "- obj 4\n",
    "- obj 5"
   ]
  },
  {
   "attachments": {},
   "cell_type": "markdown",
   "metadata": {},
   "source": [
    "## *Author's Name: Youssef Shihata*\n",
    "https://www.linkedin.com/in/youssef-mahmoud-55bab8217/"
   ]
  }
 ],
 "metadata": {
  "kernelspec": {
   "display_name": "Python 3.10",
   "language": "python",
   "name": "python3"
  },
  "language_info": {
   "codemirror_mode": {
    "name": "ipython",
    "version": 3
   },
   "file_extension": ".py",
   "mimetype": "text/x-python",
   "name": "python",
   "nbconvert_exporter": "python",
   "pygments_lexer": "ipython3",
   "version": "3.10.9"
  }
 },
 "nbformat": 4,
 "nbformat_minor": 1
}
